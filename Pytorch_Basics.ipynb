{
  "nbformat": 4,
  "nbformat_minor": 0,
  "metadata": {
    "colab": {
      "provenance": [],
      "authorship_tag": "ABX9TyMrGuP5kTly60veGkr8mNpi",
      "include_colab_link": true
    },
    "kernelspec": {
      "name": "python3",
      "display_name": "Python 3"
    },
    "language_info": {
      "name": "python"
    }
  },
  "cells": [
    {
      "cell_type": "markdown",
      "metadata": {
        "id": "view-in-github",
        "colab_type": "text"
      },
      "source": [
        "<a href=\"https://colab.research.google.com/github/niharika3632/Deep-Learning/blob/main/Pytorch_Basics.ipynb\" target=\"_parent\"><img src=\"https://colab.research.google.com/assets/colab-badge.svg\" alt=\"Open In Colab\"/></a>"
      ]
    },
    {
      "cell_type": "code",
      "execution_count": null,
      "metadata": {
        "id": "hAWMPQ3EVRpR",
        "colab": {
          "base_uri": "https://localhost:8080/"
        },
        "outputId": "14009812-bddb-4f9d-dd7f-6c11c1203aea"
      },
      "outputs": [
        {
          "output_type": "stream",
          "name": "stdout",
          "text": [
            "This notebook teaches the basics of pyotrch\n"
          ]
        }
      ],
      "source": [
        "print(\"This notebook teaches the basics of pyotrch\")"
      ]
    },
    {
      "cell_type": "markdown",
      "source": [
        "**Tensor**\n",
        "\n",
        "Tensor is a datastructure in which the input and output of neural network is encoded.\n",
        "\n",
        "*   It is very similar to the numpy's ndarrays except it can run on the GPUs.\n",
        "*   It eliminates the need to copy data.\n",
        "*   It is optimized for automatic differentiation.\n"
      ],
      "metadata": {
        "id": "fqCuXER7W1lg"
      }
    },
    {
      "cell_type": "code",
      "source": [
        "#Importing the modules"
      ],
      "metadata": {
        "id": "7zXHmy6JXrB6"
      },
      "execution_count": null,
      "outputs": []
    },
    {
      "cell_type": "markdown",
      "source": [
        "runtime"
      ],
      "metadata": {
        "id": "VROBqpkUYKgu"
      }
    },
    {
      "cell_type": "code",
      "source": [
        "for i in range(1, 1000000000):\n",
        "  continue"
      ],
      "metadata": {
        "id": "2Jv1PTqDYMeV",
        "outputId": "bf5bac98-057d-42dd-f676-3629edf877c1",
        "colab": {
          "base_uri": "https://localhost:8080/",
          "height": 159
        }
      },
      "execution_count": 3,
      "outputs": [
        {
          "output_type": "error",
          "ename": "KeyboardInterrupt",
          "evalue": "",
          "traceback": [
            "\u001b[0;31m---------------------------------------------------------------------------\u001b[0m",
            "\u001b[0;31mKeyboardInterrupt\u001b[0m                         Traceback (most recent call last)",
            "\u001b[0;32m<ipython-input-3-dcb61a091c86>\u001b[0m in \u001b[0;36m<cell line: 0>\u001b[0;34m()\u001b[0m\n\u001b[1;32m      1\u001b[0m \u001b[0;32mfor\u001b[0m \u001b[0mi\u001b[0m \u001b[0;32min\u001b[0m \u001b[0mrange\u001b[0m\u001b[0;34m(\u001b[0m\u001b[0;36m1\u001b[0m\u001b[0;34m,\u001b[0m \u001b[0;36m1000000000\u001b[0m\u001b[0;34m)\u001b[0m\u001b[0;34m:\u001b[0m\u001b[0;34m\u001b[0m\u001b[0;34m\u001b[0m\u001b[0m\n\u001b[0;32m----> 2\u001b[0;31m   \u001b[0;32mcontinue\u001b[0m\u001b[0;34m\u001b[0m\u001b[0;34m\u001b[0m\u001b[0m\n\u001b[0m",
            "\u001b[0;31mKeyboardInterrupt\u001b[0m: "
          ]
        }
      ]
    },
    {
      "cell_type": "code",
      "source": [
        "import torch\n",
        "import numpy as np"
      ],
      "metadata": {
        "id": "GoyWbSvtWASe"
      },
      "execution_count": 6,
      "outputs": []
    },
    {
      "cell_type": "markdown",
      "source": [
        "**Initializing the Tensors**"
      ],
      "metadata": {
        "id": "5UQLQeWxXx2e"
      }
    },
    {
      "cell_type": "markdown",
      "source": [
        "There are various ways to create tensors\n",
        "1. from data to tensors\n",
        "2. from numpy array\n",
        "3. from another tensor to retain the shape of the tensor\n",
        "4. creating the tensor with the shape"
      ],
      "metadata": {
        "id": "BWbCffMjsb-u"
      }
    },
    {
      "cell_type": "code",
      "source": [
        "data = [1,2,3]\n",
        "\n",
        "x_data = torch.tensor(data)\n",
        "x_data"
      ],
      "metadata": {
        "colab": {
          "base_uri": "https://localhost:8080/"
        },
        "id": "u_e9WOyhsaMJ",
        "outputId": "494cb6db-17ca-46d6-e3f5-91298a755222"
      },
      "execution_count": 2,
      "outputs": [
        {
          "output_type": "execute_result",
          "data": {
            "text/plain": [
              "tensor([1, 2, 3])"
            ]
          },
          "metadata": {},
          "execution_count": 2
        }
      ]
    },
    {
      "cell_type": "code",
      "source": [
        "data = [[1,2,3],[5,6,7]]\n",
        "\n",
        "x_data = torch.tensor(data)\n",
        "x_data"
      ],
      "metadata": {
        "colab": {
          "base_uri": "https://localhost:8080/"
        },
        "id": "6z-huRaXuS6l",
        "outputId": "01fc1575-9a2d-4401-ea8b-18a67c0f48f7"
      },
      "execution_count": 2,
      "outputs": [
        {
          "output_type": "execute_result",
          "data": {
            "text/plain": [
              "tensor([[1, 2, 3],\n",
              "        [5, 6, 7]])"
            ]
          },
          "metadata": {},
          "execution_count": 2
        }
      ]
    },
    {
      "cell_type": "code",
      "source": [
        "np_array = np.array(data)\n",
        "np_array"
      ],
      "metadata": {
        "colab": {
          "base_uri": "https://localhost:8080/"
        },
        "id": "V2tPiyMiui-m",
        "outputId": "f7284159-376e-4595-c83e-0a60414356f8"
      },
      "execution_count": 4,
      "outputs": [
        {
          "output_type": "execute_result",
          "data": {
            "text/plain": [
              "array([[1, 2, 3],\n",
              "       [5, 6, 7]])"
            ]
          },
          "metadata": {},
          "execution_count": 4
        }
      ]
    },
    {
      "cell_type": "code",
      "source": [
        "np_to_tensor = torch.from_numpy(np_array)\n",
        "np_to_tensor"
      ],
      "metadata": {
        "id": "owi83eyxbhrM",
        "outputId": "9667abe6-34f7-41fc-f923-31f54d88b8f8",
        "colab": {
          "base_uri": "https://localhost:8080/"
        }
      },
      "execution_count": 5,
      "outputs": [
        {
          "output_type": "execute_result",
          "data": {
            "text/plain": [
              "tensor([[1, 2, 3],\n",
              "        [5, 6, 7]])"
            ]
          },
          "metadata": {},
          "execution_count": 5
        }
      ]
    },
    {
      "cell_type": "markdown",
      "source": [
        "ones_like(input, *, dtype=None, layout=None, device=None, requires_grad=False, memory_format=torch.preserve_format) -> Tensor\n",
        "\n",
        "Returns a tensor filled with the scalar value 1, with the same size as\n",
        "input. torch.ones_like(input) is equivalent to\n",
        "torch.ones(input.size(), dtype=input.dtype, layout=input.layout, device=input.device).\n",
        "\n",
        "Args:\n",
        "    input (Tensor): the size of input will determine size of the output tensor."
      ],
      "metadata": {
        "id": "S7b4qPEJ0X3N"
      }
    },
    {
      "cell_type": "markdown",
      "source": [
        "Keyword arguments:\n",
        "   1.  dtype (torch.dtype, optional): the desired data type of returned Tensor.\n",
        "        Default: if None, defaults to the dtype of input.\n",
        "   2.  layout (torch.layout, optional): the desired layout of returned tensor.\n",
        "        Default: if None, defaults to the layout of input.\n",
        "   3.  device (torch.device, optional): the desired device of returned tensor.\n",
        "        Default: if None, defaults to the device of input.\n",
        "   4.  requires_grad (bool, optional): If autograd should record operations on the\n",
        "        returned tensor. Default: False.\n",
        "   5.  memory_format (torch.memory_format, optional): the desired memory format of\n",
        "        returned Tensor. Default: torch.preserve_format."
      ],
      "metadata": {
        "id": "HqoVKwk50flf"
      }
    },
    {
      "cell_type": "code",
      "source": [
        "x_ones = torch.ones_like(x_data)\n",
        "x_ones"
      ],
      "metadata": {
        "id": "UQlKmjn3bwNH",
        "outputId": "6b77d4a2-925d-4906-fcb3-5bc68ceae650",
        "colab": {
          "base_uri": "https://localhost:8080/"
        }
      },
      "execution_count": 7,
      "outputs": [
        {
          "output_type": "execute_result",
          "data": {
            "text/plain": [
              "tensor([[1, 1, 1],\n",
              "        [1, 1, 1]])"
            ]
          },
          "metadata": {},
          "execution_count": 7
        }
      ]
    },
    {
      "cell_type": "code",
      "source": [
        "x_rand = torch.rand_like(x_data, dtype=torch.float)\n",
        "x_rand"
      ],
      "metadata": {
        "id": "tNPa09SOymMR",
        "outputId": "bf24931b-bd0b-41d8-db6d-6fc7e5566299",
        "colab": {
          "base_uri": "https://localhost:8080/"
        }
      },
      "execution_count": 10,
      "outputs": [
        {
          "output_type": "execute_result",
          "data": {
            "text/plain": [
              "tensor([[0.9427, 0.9977, 0.0575],\n",
              "        [0.3875, 0.2721, 0.2819]])"
            ]
          },
          "metadata": {},
          "execution_count": 10
        }
      ]
    },
    {
      "cell_type": "markdown",
      "source": [
        "dtype (:class:`torch.dtype`, optional): the desired data type of returned Tensor.\n",
        "\n",
        "rand_like(input, *, dtype=None, layout=None, device=None, requires_grad=False, memory_format=torch.preserve_format) -> Tensor\n",
        "\n",
        "Returns a tensor with the same size as input that is filled with\n",
        "random numbers from a uniform distribution on the interval [0, 1).\n",
        "torch.rand_like(input) is equivalent to\n",
        "torch.rand(input.size(), dtype=input.dtype, layout=input.layout, device=input.device).\n",
        "\n",
        "Args:\n",
        " input (Tensor): the size of input will determine size of the output tensor.\n",
        "\n",
        "Keyword args:\n",
        "\n",
        "    1. dtype (torch.dtype, optional): the desired data type of returned Tensor.\n",
        "        Default: if None, defaults to the dtype of input.\n",
        "    2. layout (torch.layout, optional): the desired layout of returned tensor.\n",
        "        Default: if None, defaults to the layout of input.\n",
        "    3. device (torch.device, optional): the desired device of returned tensor.\n",
        "        Default: if None, defaults to the device of input.\n",
        "    4. requires_grad (bool, optional): If autograd should record operations on the\n",
        "        returned tensor. Default: False.\n",
        "    5. memory_format (torch.memory_format, optional): the desired memory format of\n",
        "        returned Tensor. Default: torch.preserve_format."
      ],
      "metadata": {
        "id": "mySK4M18zpVM"
      }
    },
    {
      "cell_type": "code",
      "source": [
        "x_rand = torch.rand_like(x_data, dtype=torch.complex32)\n",
        "x_rand"
      ],
      "metadata": {
        "id": "33JbmvILy1Js",
        "outputId": "0caa7506-9dc5-4b08-c52d-80cebac0fd68",
        "colab": {
          "base_uri": "https://localhost:8080/"
        }
      },
      "execution_count": 18,
      "outputs": [
        {
          "output_type": "stream",
          "name": "stderr",
          "text": [
            "<ipython-input-18-5e276f95eb5c>:1: UserWarning: ComplexHalf support is experimental and many operators don't support it yet. (Triggered internally at /pytorch/aten/src/ATen/EmptyTensor.cpp:50.)\n",
            "  x_rand = torch.rand_like(x_data, dtype=torch.complex32)\n"
          ]
        },
        {
          "output_type": "execute_result",
          "data": {
            "text/plain": [
              "tensor([[0.0239+0.5430j, 0.8618+0.0767j, 0.2192+0.8188j],\n",
              "        [0.1167+0.1836j, 0.4048+0.7476j, 0.4971+0.8066j]],\n",
              "       dtype=torch.complex32)"
            ]
          },
          "metadata": {},
          "execution_count": 18
        }
      ]
    },
    {
      "cell_type": "code",
      "source": [
        "x_zeros = torch.zeros_like(x_data)\n",
        "x_zeros"
      ],
      "metadata": {
        "id": "gGW--XNK2tgn",
        "outputId": "2bc1bc06-54c8-4a19-82db-86d6a61e28db",
        "colab": {
          "base_uri": "https://localhost:8080/"
        }
      },
      "execution_count": 25,
      "outputs": [
        {
          "output_type": "execute_result",
          "data": {
            "text/plain": [
              "tensor([[0, 0, 0],\n",
              "        [0, 0, 0]])"
            ]
          },
          "metadata": {},
          "execution_count": 25
        }
      ]
    },
    {
      "cell_type": "code",
      "source": [
        "rows = 2\n",
        "cols = 4\n",
        "\n",
        "shape = (rows, cols)\n",
        "\n",
        "print(\"zeros tensor with shape 2 x 4\")\n",
        "x_ones = torch.ones(shape)\n",
        "x_ones"
      ],
      "metadata": {
        "id": "XYHZv2jY4PRR",
        "outputId": "c17a6be5-ca71-4101-befa-0e7519c35f52",
        "colab": {
          "base_uri": "https://localhost:8080/"
        }
      },
      "execution_count": 28,
      "outputs": [
        {
          "output_type": "stream",
          "name": "stdout",
          "text": [
            "tensor with shape 2 x 4\n"
          ]
        },
        {
          "output_type": "execute_result",
          "data": {
            "text/plain": [
              "tensor([[1., 1., 1., 1.],\n",
              "        [1., 1., 1., 1.]])"
            ]
          },
          "metadata": {},
          "execution_count": 28
        }
      ]
    },
    {
      "cell_type": "code",
      "source": [
        "rows = 2\n",
        "cols = 4\n",
        "\n",
        "shape = (rows, cols)\n",
        "\n",
        "print(\"tensor with shape 2 x 4\")\n",
        "x_ones = torch.rand(shape)\n",
        "x_ones"
      ],
      "metadata": {
        "id": "gPMEmXgu4fQK",
        "outputId": "5215fd5e-3278-4c64-b691-028833c4202b",
        "colab": {
          "base_uri": "https://localhost:8080/"
        }
      },
      "execution_count": 29,
      "outputs": [
        {
          "output_type": "stream",
          "name": "stdout",
          "text": [
            "tensor with shape 2 x 4\n"
          ]
        },
        {
          "output_type": "execute_result",
          "data": {
            "text/plain": [
              "tensor([[0.5056, 0.5901, 0.2360, 0.2657],\n",
              "        [0.7014, 0.3921, 0.9938, 0.3814]])"
            ]
          },
          "metadata": {},
          "execution_count": 29
        }
      ]
    },
    {
      "cell_type": "code",
      "source": [
        "tensor_x = torch.rand(shape, dtype=torch.float16)\n",
        "tensor_x"
      ],
      "metadata": {
        "id": "z-1jZS_F4qOt",
        "outputId": "684e6f2a-5300-4d90-9c7b-c28693255660",
        "colab": {
          "base_uri": "https://localhost:8080/"
        }
      },
      "execution_count": 36,
      "outputs": [
        {
          "output_type": "execute_result",
          "data": {
            "text/plain": [
              "tensor([[0.1069, 0.2910, 0.2949, 0.3301],\n",
              "        [0.4478, 0.9004, 0.3501, 0.1992]], dtype=torch.float16)"
            ]
          },
          "metadata": {},
          "execution_count": 36
        }
      ]
    },
    {
      "cell_type": "code",
      "source": [
        "tensor_x.shape"
      ],
      "metadata": {
        "id": "xom3GT-f7Ozf",
        "outputId": "fe6107ff-10ce-482b-a4a1-5e51df29f346",
        "colab": {
          "base_uri": "https://localhost:8080/"
        }
      },
      "execution_count": 37,
      "outputs": [
        {
          "output_type": "execute_result",
          "data": {
            "text/plain": [
              "torch.Size([2, 4])"
            ]
          },
          "metadata": {},
          "execution_count": 37
        }
      ]
    },
    {
      "cell_type": "code",
      "source": [
        "tensor_x.dtype"
      ],
      "metadata": {
        "id": "dnIwjvDZ8w-p",
        "outputId": "7fe24127-dccc-40dc-a993-82b4e4d878da",
        "colab": {
          "base_uri": "https://localhost:8080/"
        }
      },
      "execution_count": 40,
      "outputs": [
        {
          "output_type": "execute_result",
          "data": {
            "text/plain": [
              "torch.float16"
            ]
          },
          "metadata": {},
          "execution_count": 40
        }
      ]
    },
    {
      "cell_type": "code",
      "source": [
        "tensor_x.device"
      ],
      "metadata": {
        "id": "fCMLOyov8y64",
        "outputId": "412f9d02-31e8-4e85-dd70-571f70d90056",
        "colab": {
          "base_uri": "https://localhost:8080/"
        }
      },
      "execution_count": 41,
      "outputs": [
        {
          "output_type": "execute_result",
          "data": {
            "text/plain": [
              "device(type='cpu')"
            ]
          },
          "metadata": {},
          "execution_count": 41
        }
      ]
    },
    {
      "cell_type": "code",
      "source": [
        "print(tensor_x.grad)"
      ],
      "metadata": {
        "id": "-iyzjzL684o2",
        "outputId": "c5b2e1f4-2aaf-42c1-a185-78ec0851d8ba",
        "colab": {
          "base_uri": "https://localhost:8080/"
        }
      },
      "execution_count": 44,
      "outputs": [
        {
          "output_type": "stream",
          "name": "stdout",
          "text": [
            "None\n"
          ]
        }
      ]
    },
    {
      "cell_type": "code",
      "source": [],
      "metadata": {
        "id": "Wp-4uwFGE96U"
      },
      "execution_count": null,
      "outputs": []
    },
    {
      "cell_type": "markdown",
      "source": [
        "requires_grad_(requires_grad=True) -> Tensor\n",
        "\n",
        "Change if autograd should record operations on this tensor: sets this tensor's\n",
        "requires_grad attribute in-place. Returns this tensor.\n",
        "\n",
        "requires_grad_'s main use case is to tell autograd to begin recording\n",
        "operations on a Tensor tensor. If tensor has requires_grad=False\n",
        "(because it was obtained through a DataLoader, or required preprocessing or\n",
        "initialization), tensor.requires_grad_() makes it so that autograd will\n",
        "begin to record operations on tensor.\n",
        "\n"
      ],
      "metadata": {
        "id": "1ryQmgB-E_8S"
      }
    },
    {
      "cell_type": "code",
      "source": [
        "tensor_x.requires_grad_(False)"
      ],
      "metadata": {
        "id": "zzvGPeXcEtDi",
        "outputId": "0b3022c4-b9db-4a86-ec9a-4f47da5471d2",
        "colab": {
          "base_uri": "https://localhost:8080/"
        }
      },
      "execution_count": 50,
      "outputs": [
        {
          "output_type": "execute_result",
          "data": {
            "text/plain": [
              "tensor([[0.1069, 0.2910, 0.2949, 0.3301],\n",
              "        [0.4478, 0.9004, 0.3501, 0.1992]], dtype=torch.float16)"
            ]
          },
          "metadata": {},
          "execution_count": 50
        }
      ]
    },
    {
      "cell_type": "code",
      "source": [
        "tensor_x"
      ],
      "metadata": {
        "id": "qPjGP47OCwHJ",
        "outputId": "c8518baf-f314-4734-aaba-b5e6d72db09f",
        "colab": {
          "base_uri": "https://localhost:8080/"
        }
      },
      "execution_count": 51,
      "outputs": [
        {
          "output_type": "execute_result",
          "data": {
            "text/plain": [
              "tensor([[0.1069, 0.2910, 0.2949, 0.3301],\n",
              "        [0.4478, 0.9004, 0.3501, 0.1992]], dtype=torch.float16)"
            ]
          },
          "metadata": {},
          "execution_count": 51
        }
      ]
    },
    {
      "cell_type": "code",
      "source": [],
      "metadata": {
        "id": "nZRRv5MFEgP4"
      },
      "execution_count": null,
      "outputs": []
    }
  ]
}