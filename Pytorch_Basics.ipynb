{
  "nbformat": 4,
  "nbformat_minor": 0,
  "metadata": {
    "colab": {
      "provenance": [],
      "authorship_tag": "ABX9TyOYxCi1RbBCnNKamm51ic7I",
      "include_colab_link": true
    },
    "kernelspec": {
      "name": "python3",
      "display_name": "Python 3"
    },
    "language_info": {
      "name": "python"
    }
  },
  "cells": [
    {
      "cell_type": "markdown",
      "metadata": {
        "id": "view-in-github",
        "colab_type": "text"
      },
      "source": [
        "<a href=\"https://colab.research.google.com/github/niharika3632/Deep-Learning/blob/main/Pytorch_Basics.ipynb\" target=\"_parent\"><img src=\"https://colab.research.google.com/assets/colab-badge.svg\" alt=\"Open In Colab\"/></a>"
      ]
    },
    {
      "cell_type": "code",
      "execution_count": 1,
      "metadata": {
        "id": "hAWMPQ3EVRpR",
        "colab": {
          "base_uri": "https://localhost:8080/"
        },
        "outputId": "14009812-bddb-4f9d-dd7f-6c11c1203aea"
      },
      "outputs": [
        {
          "output_type": "stream",
          "name": "stdout",
          "text": [
            "This notebook teaches the basics of pyotrch\n"
          ]
        }
      ],
      "source": [
        "print(\"This notebook teaches the basics of pyotrch\")"
      ]
    },
    {
      "cell_type": "markdown",
      "source": [
        "**Tensor**\n",
        "\n",
        "Tensor is a datastructure in which the input and output of neural network is encoded.\n",
        "\n",
        "*   It is very similar to the numpy's ndarrays except it can run on the GPUs.\n",
        "*   It eliminates the need to copy data.\n",
        "*   It is optimized for automatic differentiation.\n"
      ],
      "metadata": {
        "id": "fqCuXER7W1lg"
      }
    },
    {
      "cell_type": "code",
      "source": [
        "#Importing the modules"
      ],
      "metadata": {
        "id": "7zXHmy6JXrB6"
      },
      "execution_count": 3,
      "outputs": []
    },
    {
      "cell_type": "code",
      "source": [
        "import torch\n",
        "import numpy as np"
      ],
      "metadata": {
        "id": "GoyWbSvtWASe"
      },
      "execution_count": 2,
      "outputs": []
    },
    {
      "cell_type": "markdown",
      "source": [
        "**Initializing the Tensors**"
      ],
      "metadata": {
        "id": "5UQLQeWxXx2e"
      }
    },
    {
      "cell_type": "code",
      "source": [],
      "metadata": {
        "id": "R2H9JklqXpWv"
      },
      "execution_count": null,
      "outputs": []
    }
  ]
}